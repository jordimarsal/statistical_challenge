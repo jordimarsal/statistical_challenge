{
 "cells": [
  {
   "cell_type": "code",
   "execution_count": 1,
   "metadata": {
    "ExecuteTime": {
     "end_time": "2019-09-26T18:28:49.125686Z",
     "start_time": "2019-09-26T18:28:47.451308Z"
    }
   },
   "outputs": [],
   "source": [
    "import pandas as pd\n",
    "import numpy as np"
   ]
  },
  {
   "cell_type": "code",
   "execution_count": 2,
   "metadata": {
    "ExecuteTime": {
     "end_time": "2019-09-26T18:28:49.326006Z",
     "start_time": "2019-09-26T18:28:49.143623Z"
    }
   },
   "outputs": [],
   "source": [
    "df = pd.read_csv('train.csv')"
   ]
  },
  {
   "cell_type": "code",
   "execution_count": 3,
   "metadata": {
    "ExecuteTime": {
     "end_time": "2019-09-26T18:28:49.370938Z",
     "start_time": "2019-09-26T18:28:49.328974Z"
    }
   },
   "outputs": [
    {
     "data": {
      "text/html": [
       "<div>\n",
       "<style scoped>\n",
       "    .dataframe tbody tr th:only-of-type {\n",
       "        vertical-align: middle;\n",
       "    }\n",
       "\n",
       "    .dataframe tbody tr th {\n",
       "        vertical-align: top;\n",
       "    }\n",
       "\n",
       "    .dataframe thead th {\n",
       "        text-align: right;\n",
       "    }\n",
       "</style>\n",
       "<table border=\"1\" class=\"dataframe\">\n",
       "  <thead>\n",
       "    <tr style=\"text-align: right;\">\n",
       "      <th></th>\n",
       "      <th>AnimalID</th>\n",
       "      <th>Name</th>\n",
       "      <th>DateTime</th>\n",
       "      <th>OutcomeType</th>\n",
       "      <th>OutcomeSubtype</th>\n",
       "      <th>AnimalType</th>\n",
       "      <th>SexuponOutcome</th>\n",
       "      <th>AgeuponOutcome</th>\n",
       "      <th>Breed</th>\n",
       "      <th>Color</th>\n",
       "    </tr>\n",
       "  </thead>\n",
       "  <tbody>\n",
       "    <tr>\n",
       "      <th>0</th>\n",
       "      <td>A671945</td>\n",
       "      <td>Hambone</td>\n",
       "      <td>2014-02-12 18:22:00</td>\n",
       "      <td>Return_to_owner</td>\n",
       "      <td>NaN</td>\n",
       "      <td>Dog</td>\n",
       "      <td>Neutered Male</td>\n",
       "      <td>1 year</td>\n",
       "      <td>Shetland Sheepdog Mix</td>\n",
       "      <td>Brown/White</td>\n",
       "    </tr>\n",
       "    <tr>\n",
       "      <th>1</th>\n",
       "      <td>A656520</td>\n",
       "      <td>Emily</td>\n",
       "      <td>2013-10-13 12:44:00</td>\n",
       "      <td>Euthanasia</td>\n",
       "      <td>Suffering</td>\n",
       "      <td>Cat</td>\n",
       "      <td>Spayed Female</td>\n",
       "      <td>1 year</td>\n",
       "      <td>Domestic Shorthair Mix</td>\n",
       "      <td>Cream Tabby</td>\n",
       "    </tr>\n",
       "    <tr>\n",
       "      <th>2</th>\n",
       "      <td>A686464</td>\n",
       "      <td>Pearce</td>\n",
       "      <td>2015-01-31 12:28:00</td>\n",
       "      <td>Adoption</td>\n",
       "      <td>Foster</td>\n",
       "      <td>Dog</td>\n",
       "      <td>Neutered Male</td>\n",
       "      <td>2 years</td>\n",
       "      <td>Pit Bull Mix</td>\n",
       "      <td>Blue/White</td>\n",
       "    </tr>\n",
       "    <tr>\n",
       "      <th>3</th>\n",
       "      <td>A683430</td>\n",
       "      <td>NaN</td>\n",
       "      <td>2014-07-11 19:09:00</td>\n",
       "      <td>Transfer</td>\n",
       "      <td>Partner</td>\n",
       "      <td>Cat</td>\n",
       "      <td>Intact Male</td>\n",
       "      <td>3 weeks</td>\n",
       "      <td>Domestic Shorthair Mix</td>\n",
       "      <td>Blue Cream</td>\n",
       "    </tr>\n",
       "    <tr>\n",
       "      <th>4</th>\n",
       "      <td>A667013</td>\n",
       "      <td>NaN</td>\n",
       "      <td>2013-11-15 12:52:00</td>\n",
       "      <td>Transfer</td>\n",
       "      <td>Partner</td>\n",
       "      <td>Dog</td>\n",
       "      <td>Neutered Male</td>\n",
       "      <td>2 years</td>\n",
       "      <td>Lhasa Apso/Miniature Poodle</td>\n",
       "      <td>Tan</td>\n",
       "    </tr>\n",
       "  </tbody>\n",
       "</table>\n",
       "</div>"
      ],
      "text/plain": [
       "  AnimalID     Name             DateTime      OutcomeType OutcomeSubtype  \\\n",
       "0  A671945  Hambone  2014-02-12 18:22:00  Return_to_owner            NaN   \n",
       "1  A656520    Emily  2013-10-13 12:44:00       Euthanasia      Suffering   \n",
       "2  A686464   Pearce  2015-01-31 12:28:00         Adoption         Foster   \n",
       "3  A683430      NaN  2014-07-11 19:09:00         Transfer        Partner   \n",
       "4  A667013      NaN  2013-11-15 12:52:00         Transfer        Partner   \n",
       "\n",
       "  AnimalType SexuponOutcome AgeuponOutcome                        Breed  \\\n",
       "0        Dog  Neutered Male         1 year        Shetland Sheepdog Mix   \n",
       "1        Cat  Spayed Female         1 year       Domestic Shorthair Mix   \n",
       "2        Dog  Neutered Male        2 years                 Pit Bull Mix   \n",
       "3        Cat    Intact Male        3 weeks       Domestic Shorthair Mix   \n",
       "4        Dog  Neutered Male        2 years  Lhasa Apso/Miniature Poodle   \n",
       "\n",
       "         Color  \n",
       "0  Brown/White  \n",
       "1  Cream Tabby  \n",
       "2   Blue/White  \n",
       "3   Blue Cream  \n",
       "4          Tan  "
      ]
     },
     "execution_count": 3,
     "metadata": {},
     "output_type": "execute_result"
    }
   ],
   "source": [
    "df.head()"
   ]
  },
  {
   "cell_type": "code",
   "execution_count": 4,
   "metadata": {
    "ExecuteTime": {
     "end_time": "2019-09-26T18:28:49.389244Z",
     "start_time": "2019-09-26T18:28:49.377824Z"
    }
   },
   "outputs": [
    {
     "data": {
      "text/plain": [
       "(26729, 10)"
      ]
     },
     "execution_count": 4,
     "metadata": {},
     "output_type": "execute_result"
    }
   ],
   "source": [
    "df.shape"
   ]
  },
  {
   "cell_type": "code",
   "execution_count": 5,
   "metadata": {
    "ExecuteTime": {
     "end_time": "2019-09-26T18:28:49.464931Z",
     "start_time": "2019-09-26T18:28:49.395647Z"
    }
   },
   "outputs": [
    {
     "data": {
      "text/plain": [
       "21322"
      ]
     },
     "execution_count": 5,
     "metadata": {},
     "output_type": "execute_result"
    }
   ],
   "source": [
    "nulls=df.isnull().sum().sum()\n",
    "nulls"
   ]
  },
  {
   "cell_type": "code",
   "execution_count": 6,
   "metadata": {
    "ExecuteTime": {
     "end_time": "2019-09-26T18:28:49.499548Z",
     "start_time": "2019-09-26T18:28:49.470092Z"
    }
   },
   "outputs": [
    {
     "data": {
      "text/plain": [
       "267290"
      ]
     },
     "execution_count": 6,
     "metadata": {},
     "output_type": "execute_result"
    }
   ],
   "source": [
    "total_cells = df.shape[1]*df.shape[0]\n",
    "total_cells"
   ]
  },
  {
   "cell_type": "code",
   "execution_count": 7,
   "metadata": {
    "ExecuteTime": {
     "end_time": "2019-09-26T18:28:49.546776Z",
     "start_time": "2019-09-26T18:28:49.505015Z"
    }
   },
   "outputs": [
    {
     "data": {
      "text/plain": [
       "7.9771035205207825"
      ]
     },
     "execution_count": 7,
     "metadata": {},
     "output_type": "execute_result"
    }
   ],
   "source": [
    "nulls_percent = (nulls * 100) / total_cells\n",
    "nulls_percent\n"
   ]
  },
  {
   "cell_type": "code",
   "execution_count": 8,
   "metadata": {
    "ExecuteTime": {
     "end_time": "2019-09-26T18:28:49.720919Z",
     "start_time": "2019-09-26T18:28:49.663671Z"
    }
   },
   "outputs": [
    {
     "name": "stdout",
     "output_type": "stream",
     "text": [
      "<class 'pandas.core.frame.DataFrame'>\n",
      "RangeIndex: 26729 entries, 0 to 26728\n",
      "Data columns (total 10 columns):\n",
      "AnimalID          26729 non-null object\n",
      "Name              19038 non-null object\n",
      "DateTime          26729 non-null object\n",
      "OutcomeType       26729 non-null object\n",
      "OutcomeSubtype    13117 non-null object\n",
      "AnimalType        26729 non-null object\n",
      "SexuponOutcome    26728 non-null object\n",
      "AgeuponOutcome    26711 non-null object\n",
      "Breed             26729 non-null object\n",
      "Color             26729 non-null object\n",
      "dtypes: object(10)\n",
      "memory usage: 2.0+ MB\n"
     ]
    }
   ],
   "source": [
    "df.info()"
   ]
  },
  {
   "cell_type": "code",
   "execution_count": 9,
   "metadata": {
    "ExecuteTime": {
     "end_time": "2019-09-26T18:28:49.837343Z",
     "start_time": "2019-09-26T18:28:49.728963Z"
    }
   },
   "outputs": [
    {
     "data": {
      "text/plain": [
       "0"
      ]
     },
     "execution_count": 9,
     "metadata": {},
     "output_type": "execute_result"
    }
   ],
   "source": [
    "df.duplicated().sum()"
   ]
  },
  {
   "cell_type": "code",
   "execution_count": 10,
   "metadata": {
    "ExecuteTime": {
     "end_time": "2019-09-26T18:28:49.879764Z",
     "start_time": "2019-09-26T18:28:49.844196Z"
    }
   },
   "outputs": [
    {
     "data": {
      "text/plain": [
       "22918"
      ]
     },
     "execution_count": 10,
     "metadata": {},
     "output_type": "execute_result"
    }
   ],
   "source": [
    "len(df.DateTime.unique())"
   ]
  },
  {
   "cell_type": "code",
   "execution_count": 11,
   "metadata": {
    "ExecuteTime": {
     "end_time": "2019-09-26T18:28:49.936291Z",
     "start_time": "2019-09-26T18:28:49.883623Z"
    }
   },
   "outputs": [
    {
     "data": {
      "text/plain": [
       "Adoption           0.402896\n",
       "Transfer           0.352501\n",
       "Return_to_owner    0.179056\n",
       "Euthanasia         0.058177\n",
       "Died               0.007370\n",
       "Name: OutcomeType, dtype: float64"
      ]
     },
     "execution_count": 11,
     "metadata": {},
     "output_type": "execute_result"
    }
   ],
   "source": [
    "(df['OutcomeType'].value_counts())/len(df['OutcomeType'])"
   ]
  },
  {
   "cell_type": "code",
   "execution_count": 12,
   "metadata": {
    "ExecuteTime": {
     "end_time": "2019-09-26T18:28:49.993021Z",
     "start_time": "2019-09-26T18:28:49.958117Z"
    }
   },
   "outputs": [],
   "source": [
    "cats=df.loc[df['AnimalType']=='Cat']"
   ]
  },
  {
   "cell_type": "code",
   "execution_count": 13,
   "metadata": {
    "ExecuteTime": {
     "end_time": "2019-09-26T18:28:50.031329Z",
     "start_time": "2019-09-26T18:28:50.020524Z"
    }
   },
   "outputs": [
    {
     "data": {
      "text/plain": [
       "Transfer           0.494431\n",
       "Adoption           0.383690\n",
       "Euthanasia         0.063769\n",
       "Return_to_owner    0.044907\n",
       "Died               0.013203\n",
       "Name: OutcomeType, dtype: float64"
      ]
     },
     "execution_count": 13,
     "metadata": {},
     "output_type": "execute_result"
    }
   ],
   "source": [
    "cats['OutcomeType'].value_counts()/len(cats['OutcomeType'])"
   ]
  },
  {
   "cell_type": "code",
   "execution_count": 14,
   "metadata": {
    "ExecuteTime": {
     "end_time": "2019-09-26T18:28:50.084488Z",
     "start_time": "2019-09-26T18:28:50.037607Z"
    }
   },
   "outputs": [],
   "source": [
    "dogs=df.loc[df['AnimalType']=='Dog']"
   ]
  },
  {
   "cell_type": "code",
   "execution_count": 15,
   "metadata": {
    "ExecuteTime": {
     "end_time": "2019-09-26T18:28:50.133440Z",
     "start_time": "2019-09-26T18:28:50.087760Z"
    }
   },
   "outputs": [
    {
     "data": {
      "text/plain": [
       "Adoption           0.416608\n",
       "Return_to_owner    0.274832\n",
       "Transfer           0.251170\n",
       "Euthanasia         0.054184\n",
       "Died               0.003206\n",
       "Name: OutcomeType, dtype: float64"
      ]
     },
     "execution_count": 15,
     "metadata": {},
     "output_type": "execute_result"
    }
   ],
   "source": [
    "dogs['OutcomeType'].value_counts()/len(dogs['OutcomeType'])"
   ]
  },
  {
   "cell_type": "code",
   "execution_count": 16,
   "metadata": {
    "ExecuteTime": {
     "end_time": "2019-09-26T18:28:50.763017Z",
     "start_time": "2019-09-26T18:28:50.136473Z"
    }
   },
   "outputs": [
    {
     "data": {
      "text/plain": [
       "<matplotlib.axes._subplots.AxesSubplot at 0x11b03c320>"
      ]
     },
     "execution_count": 16,
     "metadata": {},
     "output_type": "execute_result"
    },
    {
     "data": {
      "image/png": "[encoded data removed]",
      "text/plain": [
       "<Figure size 432x288 with 1 Axes>"
      ]
     },
     "metadata": {
      "needs_background": "light"
     },
     "output_type": "display_data"
    }
   ],
   "source": [
    "import matplotlib.pyplot as plt\n",
    "%matplotlib inline\n",
    "\n",
    "df['OutcomeSubtype'].value_counts()\n",
    "df['OutcomeSubtype'].value_counts().hist()\n",
    "df['OutcomeSubtype'].value_counts()\n",
    "df['OutcomeSubtype'].value_counts().hist()\n"
   ]
  },
  {
   "cell_type": "code",
   "execution_count": 17,
   "metadata": {
    "ExecuteTime": {
     "end_time": "2019-09-26T18:28:51.152020Z",
     "start_time": "2019-09-26T18:28:50.766365Z"
    }
   },
   "outputs": [
    {
     "data": {
      "text/plain": [
       "<matplotlib.axes._subplots.AxesSubplot at 0x11b4ae6d8>"
      ]
     },
     "execution_count": 17,
     "metadata": {},
     "output_type": "execute_result"
    },
    {
     "data": {
      "image/png": "[encoded data removed]",
      "text/plain": [
       "<Figure size 432x288 with 1 Axes>"
      ]
     },
     "metadata": {
      "needs_background": "light"
     },
     "output_type": "display_data"
    }
   ],
   "source": [
    "def d2(string):\n",
    "   res = 0\n",
    "   if type(string)==str:\n",
    "       t = string.split()\n",
    "       mul = t[0]\n",
    "       it = t[1]\n",
    "       period = 0\n",
    "       if 'year' in it:\n",
    "           period = 365\n",
    "       if 'month' in it:\n",
    "           period = 30\n",
    "       if 'week' in it:\n",
    "           period = 7\n",
    "       if 'day' in it:\n",
    "           period = 1\n",
    "       res = int(mul)*period\n",
    "   return res\n",
    "df['days']=df['AgeuponOutcome'].apply(d2)\n",
    "df.head()\n",
    "df['days'].hist()\n",
    "\n"
   ]
  },
  {
   "cell_type": "code",
   "execution_count": 18,
   "metadata": {
    "ExecuteTime": {
     "end_time": "2019-09-26T18:28:51.254141Z",
     "start_time": "2019-09-26T18:28:51.157004Z"
    }
   },
   "outputs": [],
   "source": [
    "sexnonull = df.loc[df['SexuponOutcome'].notnull()]\n",
    "\n",
    "males = sexnonull[sexnonull['SexuponOutcome'].str.contains(' Male')]    \n",
    "females = sexnonull[sexnonull['SexuponOutcome'].str.contains(' Female')] "
   ]
  },
  {
   "cell_type": "code",
   "execution_count": 19,
   "metadata": {
    "ExecuteTime": {
     "end_time": "2019-09-26T18:28:51.266556Z",
     "start_time": "2019-09-26T18:28:51.256167Z"
    }
   },
   "outputs": [
    {
     "data": {
      "text/plain": [
       "Adoption           0.404390\n",
       "Transfer           0.321783\n",
       "Return_to_owner    0.204750\n",
       "Euthanasia         0.061711\n",
       "Died               0.007366\n",
       "Name: OutcomeType, dtype: float64"
      ]
     },
     "execution_count": 19,
     "metadata": {},
     "output_type": "execute_result"
    }
   ],
   "source": [
    "males['OutcomeType'].value_counts()/len(males['OutcomeType'])"
   ]
  },
  {
   "cell_type": "code",
   "execution_count": 20,
   "metadata": {
    "ExecuteTime": {
     "end_time": "2019-09-26T18:28:51.301086Z",
     "start_time": "2019-09-26T18:28:51.269399Z"
    }
   },
   "outputs": [
    {
     "data": {
      "text/plain": [
       "Adoption           0.437029\n",
       "Transfer           0.339470\n",
       "Return_to_owner    0.166167\n",
       "Euthanasia         0.051334\n",
       "Died               0.006001\n",
       "Name: OutcomeType, dtype: float64"
      ]
     },
     "execution_count": 20,
     "metadata": {},
     "output_type": "execute_result"
    }
   ],
   "source": [
    "females['OutcomeType'].value_counts()/len(females['OutcomeType'])"
   ]
  },
  {
   "cell_type": "code",
   "execution_count": 21,
   "metadata": {
    "ExecuteTime": {
     "end_time": "2019-09-26T18:28:51.336090Z",
     "start_time": "2019-09-26T18:28:51.303367Z"
    }
   },
   "outputs": [],
   "source": [
    "adopted = df.loc[df['OutcomeType']=='Adoption']"
   ]
  },
  {
   "cell_type": "code",
   "execution_count": 22,
   "metadata": {
    "ExecuteTime": {
     "end_time": "2019-09-26T18:28:51.385944Z",
     "start_time": "2019-09-26T18:28:51.337757Z"
    }
   },
   "outputs": [
    {
     "data": {
      "text/html": [
       "<div>\n",
       "<style scoped>\n",
       "    .dataframe tbody tr th:only-of-type {\n",
       "        vertical-align: middle;\n",
       "    }\n",
       "\n",
       "    .dataframe tbody tr th {\n",
       "        vertical-align: top;\n",
       "    }\n",
       "\n",
       "    .dataframe thead th {\n",
       "        text-align: right;\n",
       "    }\n",
       "</style>\n",
       "<table border=\"1\" class=\"dataframe\">\n",
       "  <thead>\n",
       "    <tr style=\"text-align: right;\">\n",
       "      <th></th>\n",
       "      <th>AnimalID</th>\n",
       "      <th>Name</th>\n",
       "      <th>DateTime</th>\n",
       "      <th>OutcomeType</th>\n",
       "      <th>OutcomeSubtype</th>\n",
       "      <th>AnimalType</th>\n",
       "      <th>SexuponOutcome</th>\n",
       "      <th>AgeuponOutcome</th>\n",
       "      <th>Breed</th>\n",
       "      <th>Color</th>\n",
       "      <th>days</th>\n",
       "    </tr>\n",
       "  </thead>\n",
       "  <tbody>\n",
       "    <tr>\n",
       "      <th>2</th>\n",
       "      <td>A686464</td>\n",
       "      <td>Pearce</td>\n",
       "      <td>2015-01-31 12:28:00</td>\n",
       "      <td>Adoption</td>\n",
       "      <td>Foster</td>\n",
       "      <td>Dog</td>\n",
       "      <td>Neutered Male</td>\n",
       "      <td>2 years</td>\n",
       "      <td>Pit Bull Mix</td>\n",
       "      <td>Blue/White</td>\n",
       "      <td>730</td>\n",
       "    </tr>\n",
       "    <tr>\n",
       "      <th>8</th>\n",
       "      <td>A671784</td>\n",
       "      <td>Lucy</td>\n",
       "      <td>2014-02-04 17:17:00</td>\n",
       "      <td>Adoption</td>\n",
       "      <td>NaN</td>\n",
       "      <td>Dog</td>\n",
       "      <td>Spayed Female</td>\n",
       "      <td>5 months</td>\n",
       "      <td>American Pit Bull Terrier Mix</td>\n",
       "      <td>Red/White</td>\n",
       "      <td>150</td>\n",
       "    </tr>\n",
       "    <tr>\n",
       "      <th>9</th>\n",
       "      <td>A677747</td>\n",
       "      <td>NaN</td>\n",
       "      <td>2014-05-03 07:48:00</td>\n",
       "      <td>Adoption</td>\n",
       "      <td>Offsite</td>\n",
       "      <td>Dog</td>\n",
       "      <td>Spayed Female</td>\n",
       "      <td>1 year</td>\n",
       "      <td>Cairn Terrier</td>\n",
       "      <td>White</td>\n",
       "      <td>365</td>\n",
       "    </tr>\n",
       "    <tr>\n",
       "      <th>11</th>\n",
       "      <td>A666320</td>\n",
       "      <td>NaN</td>\n",
       "      <td>2013-11-04 14:48:00</td>\n",
       "      <td>Adoption</td>\n",
       "      <td>NaN</td>\n",
       "      <td>Dog</td>\n",
       "      <td>Spayed Female</td>\n",
       "      <td>2 years</td>\n",
       "      <td>Miniature Schnauzer Mix</td>\n",
       "      <td>Silver</td>\n",
       "      <td>730</td>\n",
       "    </tr>\n",
       "    <tr>\n",
       "      <th>12</th>\n",
       "      <td>A684601</td>\n",
       "      <td>Rocket</td>\n",
       "      <td>2016-02-03 11:27:00</td>\n",
       "      <td>Adoption</td>\n",
       "      <td>Foster</td>\n",
       "      <td>Dog</td>\n",
       "      <td>Neutered Male</td>\n",
       "      <td>4 years</td>\n",
       "      <td>Pit Bull Mix</td>\n",
       "      <td>Brown</td>\n",
       "      <td>1460</td>\n",
       "    </tr>\n",
       "  </tbody>\n",
       "</table>\n",
       "</div>"
      ],
      "text/plain": [
       "   AnimalID    Name             DateTime OutcomeType OutcomeSubtype  \\\n",
       "2   A686464  Pearce  2015-01-31 12:28:00    Adoption         Foster   \n",
       "8   A671784    Lucy  2014-02-04 17:17:00    Adoption            NaN   \n",
       "9   A677747     NaN  2014-05-03 07:48:00    Adoption        Offsite   \n",
       "11  A666320     NaN  2013-11-04 14:48:00    Adoption            NaN   \n",
       "12  A684601  Rocket  2016-02-03 11:27:00    Adoption         Foster   \n",
       "\n",
       "   AnimalType SexuponOutcome AgeuponOutcome                          Breed  \\\n",
       "2         Dog  Neutered Male        2 years                   Pit Bull Mix   \n",
       "8         Dog  Spayed Female       5 months  American Pit Bull Terrier Mix   \n",
       "9         Dog  Spayed Female         1 year                  Cairn Terrier   \n",
       "11        Dog  Spayed Female        2 years        Miniature Schnauzer Mix   \n",
       "12        Dog  Neutered Male        4 years                   Pit Bull Mix   \n",
       "\n",
       "         Color  days  \n",
       "2   Blue/White   730  \n",
       "8    Red/White   150  \n",
       "9        White   365  \n",
       "11      Silver   730  \n",
       "12       Brown  1460  "
      ]
     },
     "execution_count": 22,
     "metadata": {},
     "output_type": "execute_result"
    }
   ],
   "source": [
    "adopted.head()"
   ]
  },
  {
   "cell_type": "code",
   "execution_count": 23,
   "metadata": {
    "ExecuteTime": {
     "end_time": "2019-09-26T18:28:51.755409Z",
     "start_time": "2019-09-26T18:28:51.408613Z"
    }
   },
   "outputs": [
    {
     "name": "stderr",
     "output_type": "stream",
     "text": [
      "/anaconda3/lib/python3.6/site-packages/ipykernel_launcher.py:1: SettingWithCopyWarning: \n",
      "A value is trying to be set on a copy of a slice from a DataFrame.\n",
      "Try using .loc[row_indexer,col_indexer] = value instead\n",
      "\n",
      "See the caveats in the documentation: http://pandas.pydata.org/pandas-docs/stable/indexing.html#indexing-view-versus-copy\n",
      "  \"\"\"Entry point for launching an IPython kernel.\n"
     ]
    }
   ],
   "source": [
    "adopted['DateTime'] = pd.to_datetime(adopted['DateTime'])"
   ]
  },
  {
   "cell_type": "code",
   "execution_count": 24,
   "metadata": {
    "ExecuteTime": {
     "end_time": "2019-09-26T18:28:51.878651Z",
     "start_time": "2019-09-26T18:28:51.779789Z"
    }
   },
   "outputs": [
    {
     "name": "stdout",
     "output_type": "stream",
     "text": [
      "<class 'pandas.core.frame.DataFrame'>\n",
      "Int64Index: 10769 entries, 2 to 26726\n",
      "Data columns (total 11 columns):\n",
      "AnimalID          10769 non-null object\n",
      "Name              9091 non-null object\n",
      "DateTime          10769 non-null datetime64[ns]\n",
      "OutcomeType       10769 non-null object\n",
      "OutcomeSubtype    1966 non-null object\n",
      "AnimalType        10769 non-null object\n",
      "SexuponOutcome    10769 non-null object\n",
      "AgeuponOutcome    10769 non-null object\n",
      "Breed             10769 non-null object\n",
      "Color             10769 non-null object\n",
      "days              10769 non-null int64\n",
      "dtypes: datetime64[ns](1), int64(1), object(9)\n",
      "memory usage: 1009.6+ KB\n"
     ]
    }
   ],
   "source": [
    "adopted.info()"
   ]
  },
  {
   "cell_type": "code",
   "execution_count": 25,
   "metadata": {
    "ExecuteTime": {
     "end_time": "2019-09-26T18:28:52.879472Z",
     "start_time": "2019-09-26T18:28:51.896826Z"
    }
   },
   "outputs": [
    {
     "name": "stderr",
     "output_type": "stream",
     "text": [
      "/anaconda3/lib/python3.6/site-packages/pandas/plotting/_converter.py:129: FutureWarning: Using an implicitly registered datetime converter for a matplotlib plotting method. The converter was registered by pandas on import. Future versions of pandas will require you to explicitly register matplotlib converters.\n",
      "\n",
      "To register the converters:\n",
      "\t>>> from pandas.plotting import register_matplotlib_converters\n",
      "\t>>> register_matplotlib_converters()\n",
      "  warnings.warn(msg, FutureWarning)\n"
     ]
    },
    {
     "data": {
      "text/plain": [
       "<matplotlib.axes._subplots.AxesSubplot at 0x11c7f5e80>"
      ]
     },
     "execution_count": 25,
     "metadata": {},
     "output_type": "execute_result"
    },
    {
     "data": {
      "image/png": "[encoded data removed]",
      "text/plain": [
       "<Figure size 1008x576 with 1 Axes>"
      ]
     },
     "metadata": {
      "needs_background": "light"
     },
     "output_type": "display_data"
    }
   ],
   "source": [
    "adopted['DateTime'].hist(bins=50, figsize=(14,8))"
   ]
  },
  {
   "cell_type": "code",
   "execution_count": 26,
   "metadata": {
    "ExecuteTime": {
     "end_time": "2019-09-26T18:28:52.931320Z",
     "start_time": "2019-09-26T18:28:52.888353Z"
    }
   },
   "outputs": [],
   "source": [
    "df_sample = df.sample(10000)"
   ]
  },
  {
   "cell_type": "code",
   "execution_count": 27,
   "metadata": {
    "ExecuteTime": {
     "end_time": "2019-09-26T18:28:52.959381Z",
     "start_time": "2019-09-26T18:28:52.941217Z"
    }
   },
   "outputs": [],
   "source": [
    "df = df.drop(df_sample.index)"
   ]
  },
  {
   "cell_type": "code",
   "execution_count": 28,
   "metadata": {
    "ExecuteTime": {
     "end_time": "2019-09-26T18:28:52.989214Z",
     "start_time": "2019-09-26T18:28:52.962753Z"
    }
   },
   "outputs": [
    {
     "data": {
      "text/plain": [
       "(10000, 11)"
      ]
     },
     "execution_count": 28,
     "metadata": {},
     "output_type": "execute_result"
    }
   ],
   "source": [
    "df_sample.shape"
   ]
  },
  {
   "cell_type": "code",
   "execution_count": 29,
   "metadata": {
    "ExecuteTime": {
     "end_time": "2019-09-26T18:28:53.060951Z",
     "start_time": "2019-09-26T18:28:53.020491Z"
    }
   },
   "outputs": [
    {
     "data": {
      "text/plain": [
       "(16729, 11)"
      ]
     },
     "execution_count": 29,
     "metadata": {},
     "output_type": "execute_result"
    }
   ],
   "source": [
    "df.shape"
   ]
  },
  {
   "cell_type": "code",
   "execution_count": 30,
   "metadata": {
    "ExecuteTime": {
     "end_time": "2019-09-26T18:28:53.766962Z",
     "start_time": "2019-09-26T18:28:53.074779Z"
    }
   },
   "outputs": [
    {
     "data": {
      "text/plain": [
       "Ttest_indResult(statistic=0.1805045998342156, pvalue=0.8567578121274638)"
      ]
     },
     "execution_count": 30,
     "metadata": {},
     "output_type": "execute_result"
    }
   ],
   "source": [
    "from scipy.stats import ttest_ind\n",
    "\n",
    "ttest_ind(df['days'], df_sample['days'])\n"
   ]
  },
  {
   "cell_type": "code",
   "execution_count": 31,
   "metadata": {
    "ExecuteTime": {
     "end_time": "2019-09-26T18:28:53.776548Z",
     "start_time": "2019-09-26T18:28:53.770481Z"
    }
   },
   "outputs": [
    {
     "name": "stdout",
     "output_type": "stream",
     "text": [
      "794.5201745471935\n",
      "792.0499\n"
     ]
    }
   ],
   "source": [
    "print(df['days'].mean())\n",
    "print(df_sample['days'].mean())"
   ]
  },
  {
   "cell_type": "code",
   "execution_count": 32,
   "metadata": {
    "ExecuteTime": {
     "end_time": "2019-09-26T18:28:53.803916Z",
     "start_time": "2019-09-26T18:28:53.780266Z"
    }
   },
   "outputs": [
    {
     "data": {
      "text/html": [
       "<div>\n",
       "<style scoped>\n",
       "    .dataframe tbody tr th:only-of-type {\n",
       "        vertical-align: middle;\n",
       "    }\n",
       "\n",
       "    .dataframe tbody tr th {\n",
       "        vertical-align: top;\n",
       "    }\n",
       "\n",
       "    .dataframe thead th {\n",
       "        text-align: right;\n",
       "    }\n",
       "</style>\n",
       "<table border=\"1\" class=\"dataframe\">\n",
       "  <thead>\n",
       "    <tr style=\"text-align: right;\">\n",
       "      <th></th>\n",
       "      <th>AnimalID</th>\n",
       "      <th>Name</th>\n",
       "      <th>DateTime</th>\n",
       "      <th>OutcomeType</th>\n",
       "      <th>OutcomeSubtype</th>\n",
       "      <th>AnimalType</th>\n",
       "      <th>SexuponOutcome</th>\n",
       "      <th>AgeuponOutcome</th>\n",
       "      <th>Breed</th>\n",
       "      <th>Color</th>\n",
       "      <th>days</th>\n",
       "    </tr>\n",
       "  </thead>\n",
       "  <tbody>\n",
       "    <tr>\n",
       "      <th>0</th>\n",
       "      <td>A671945</td>\n",
       "      <td>Hambone</td>\n",
       "      <td>2014-02-12 18:22:00</td>\n",
       "      <td>Return_to_owner</td>\n",
       "      <td>NaN</td>\n",
       "      <td>Dog</td>\n",
       "      <td>Neutered Male</td>\n",
       "      <td>1 year</td>\n",
       "      <td>Shetland Sheepdog Mix</td>\n",
       "      <td>Brown/White</td>\n",
       "      <td>365</td>\n",
       "    </tr>\n",
       "    <tr>\n",
       "      <th>1</th>\n",
       "      <td>A656520</td>\n",
       "      <td>Emily</td>\n",
       "      <td>2013-10-13 12:44:00</td>\n",
       "      <td>Euthanasia</td>\n",
       "      <td>Suffering</td>\n",
       "      <td>Cat</td>\n",
       "      <td>Spayed Female</td>\n",
       "      <td>1 year</td>\n",
       "      <td>Domestic Shorthair Mix</td>\n",
       "      <td>Cream Tabby</td>\n",
       "      <td>365</td>\n",
       "    </tr>\n",
       "    <tr>\n",
       "      <th>2</th>\n",
       "      <td>A686464</td>\n",
       "      <td>Pearce</td>\n",
       "      <td>2015-01-31 12:28:00</td>\n",
       "      <td>Adoption</td>\n",
       "      <td>Foster</td>\n",
       "      <td>Dog</td>\n",
       "      <td>Neutered Male</td>\n",
       "      <td>2 years</td>\n",
       "      <td>Pit Bull Mix</td>\n",
       "      <td>Blue/White</td>\n",
       "      <td>730</td>\n",
       "    </tr>\n",
       "    <tr>\n",
       "      <th>3</th>\n",
       "      <td>A683430</td>\n",
       "      <td>NaN</td>\n",
       "      <td>2014-07-11 19:09:00</td>\n",
       "      <td>Transfer</td>\n",
       "      <td>Partner</td>\n",
       "      <td>Cat</td>\n",
       "      <td>Intact Male</td>\n",
       "      <td>3 weeks</td>\n",
       "      <td>Domestic Shorthair Mix</td>\n",
       "      <td>Blue Cream</td>\n",
       "      <td>21</td>\n",
       "    </tr>\n",
       "    <tr>\n",
       "      <th>5</th>\n",
       "      <td>A677334</td>\n",
       "      <td>Elsa</td>\n",
       "      <td>2014-04-25 13:04:00</td>\n",
       "      <td>Transfer</td>\n",
       "      <td>Partner</td>\n",
       "      <td>Dog</td>\n",
       "      <td>Intact Female</td>\n",
       "      <td>1 month</td>\n",
       "      <td>Cairn Terrier/Chihuahua Shorthair</td>\n",
       "      <td>Black/Tan</td>\n",
       "      <td>30</td>\n",
       "    </tr>\n",
       "  </tbody>\n",
       "</table>\n",
       "</div>"
      ],
      "text/plain": [
       "  AnimalID     Name             DateTime      OutcomeType OutcomeSubtype  \\\n",
       "0  A671945  Hambone  2014-02-12 18:22:00  Return_to_owner            NaN   \n",
       "1  A656520    Emily  2013-10-13 12:44:00       Euthanasia      Suffering   \n",
       "2  A686464   Pearce  2015-01-31 12:28:00         Adoption         Foster   \n",
       "3  A683430      NaN  2014-07-11 19:09:00         Transfer        Partner   \n",
       "5  A677334     Elsa  2014-04-25 13:04:00         Transfer        Partner   \n",
       "\n",
       "  AnimalType SexuponOutcome AgeuponOutcome                              Breed  \\\n",
       "0        Dog  Neutered Male         1 year              Shetland Sheepdog Mix   \n",
       "1        Cat  Spayed Female         1 year             Domestic Shorthair Mix   \n",
       "2        Dog  Neutered Male        2 years                       Pit Bull Mix   \n",
       "3        Cat    Intact Male        3 weeks             Domestic Shorthair Mix   \n",
       "5        Dog  Intact Female        1 month  Cairn Terrier/Chihuahua Shorthair   \n",
       "\n",
       "         Color  days  \n",
       "0  Brown/White   365  \n",
       "1  Cream Tabby   365  \n",
       "2   Blue/White   730  \n",
       "3   Blue Cream    21  \n",
       "5    Black/Tan    30  "
      ]
     },
     "execution_count": 32,
     "metadata": {},
     "output_type": "execute_result"
    }
   ],
   "source": [
    "df.head()"
   ]
  },
  {
   "cell_type": "code",
   "execution_count": 33,
   "metadata": {
    "ExecuteTime": {
     "end_time": "2019-09-26T18:28:53.835118Z",
     "start_time": "2019-09-26T18:28:53.816720Z"
    }
   },
   "outputs": [
    {
     "data": {
      "text/plain": [
       "Neutered Male    9779\n",
       "Spayed Female    8820\n",
       "Intact Male      3525\n",
       "Intact Female    3511\n",
       "Unknown          1093\n",
       "Name: SexuponOutcome, dtype: int64"
      ]
     },
     "execution_count": 33,
     "metadata": {},
     "output_type": "execute_result"
    }
   ],
   "source": [
    "sexnonull['SexuponOutcome'].value_counts()"
   ]
  },
  {
   "cell_type": "code",
   "execution_count": 34,
   "metadata": {
    "ExecuteTime": {
     "end_time": "2019-09-26T18:28:53.924337Z",
     "start_time": "2019-09-26T18:28:53.837827Z"
    }
   },
   "outputs": [],
   "source": [
    "\n",
    "intact = sexnonull[sexnonull['SexuponOutcome'].str.contains('Intact')]    \n",
    "neutered_spayed = sexnonull[(sexnonull['SexuponOutcome'].str.contains('Neutered'))|(sexnonull['SexuponOutcome'].str.contains('Spayed'))] "
   ]
  },
  {
   "cell_type": "code",
   "execution_count": 35,
   "metadata": {
    "ExecuteTime": {
     "end_time": "2019-09-26T18:28:53.931247Z",
     "start_time": "2019-09-26T18:28:53.926072Z"
    }
   },
   "outputs": [
    {
     "data": {
      "text/plain": [
       "7036"
      ]
     },
     "execution_count": 35,
     "metadata": {},
     "output_type": "execute_result"
    }
   ],
   "source": [
    "len(intact)"
   ]
  },
  {
   "cell_type": "code",
   "execution_count": 36,
   "metadata": {
    "ExecuteTime": {
     "end_time": "2019-09-26T18:28:53.942254Z",
     "start_time": "2019-09-26T18:28:53.934774Z"
    }
   },
   "outputs": [
    {
     "data": {
      "text/plain": [
       "18599"
      ]
     },
     "execution_count": 36,
     "metadata": {},
     "output_type": "execute_result"
    }
   ],
   "source": [
    "len(neutered_spayed)"
   ]
  },
  {
   "cell_type": "code",
   "execution_count": 37,
   "metadata": {
    "ExecuteTime": {
     "end_time": "2019-09-26T18:28:54.043300Z",
     "start_time": "2019-09-26T18:28:53.944427Z"
    }
   },
   "outputs": [],
   "source": [
    "sexnonull['Neutered']= sexnonull['SexuponOutcome'].str.contains('Intact')== False "
   ]
  },
  {
   "cell_type": "code",
   "execution_count": 38,
   "metadata": {
    "ExecuteTime": {
     "end_time": "2019-09-26T18:28:54.050904Z",
     "start_time": "2019-09-26T18:28:54.044990Z"
    }
   },
   "outputs": [
    {
     "data": {
      "text/plain": [
       "0     True\n",
       "1     True\n",
       "2     True\n",
       "3    False\n",
       "4     True\n",
       "Name: Neutered, dtype: bool"
      ]
     },
     "execution_count": 38,
     "metadata": {},
     "output_type": "execute_result"
    }
   ],
   "source": [
    "sexnonull['Neutered'].head()"
   ]
  },
  {
   "cell_type": "code",
   "execution_count": 39,
   "metadata": {
    "ExecuteTime": {
     "end_time": "2019-09-26T18:28:54.262758Z",
     "start_time": "2019-09-26T18:28:54.054528Z"
    }
   },
   "outputs": [
    {
     "data": {
      "text/plain": [
       "<matplotlib.axes._subplots.AxesSubplot at 0x1264b3cc0>"
      ]
     },
     "execution_count": 39,
     "metadata": {},
     "output_type": "execute_result"
    },
    {
     "data": {
      "image/png": "[encoded data removed]",
      "text/plain": [
       "<Figure size 432x288 with 1 Axes>"
      ]
     },
     "metadata": {
      "needs_background": "light"
     },
     "output_type": "display_data"
    }
   ],
   "source": [
    "sexnonull['Neutered'].value_counts().plot.bar()"
   ]
  },
  {
   "cell_type": "code",
   "execution_count": 40,
   "metadata": {
    "ExecuteTime": {
     "end_time": "2019-09-26T18:28:54.590867Z",
     "start_time": "2019-09-26T18:28:54.267216Z"
    }
   },
   "outputs": [
    {
     "data": {
      "text/plain": [
       "<matplotlib.axes._subplots.AxesSubplot at 0x1264dd048>"
      ]
     },
     "execution_count": 40,
     "metadata": {},
     "output_type": "execute_result"
    },
    {
     "data": {
      "image/png": "[encoded data removed]",
      "text/plain": [
       "<Figure size 432x288 with 1 Axes>"
      ]
     },
     "metadata": {
      "needs_background": "light"
     },
     "output_type": "display_data"
    }
   ],
   "source": [
    "df['OutcomeSubtype'].value_counts().plot.bar()"
   ]
  }
 ],
 "metadata": {
  "kernelspec": {
   "display_name": "Python 3",
   "language": "python",
   "name": "python3"
  },
  "language_info": {
   "codemirror_mode": {
    "name": "ipython",
    "version": 3
   },
   "file_extension": ".py",
   "mimetype": "text/x-python",
   "name": "python",
   "nbconvert_exporter": "python",
   "pygments_lexer": "ipython3",
   "version": "3.6.8"
  },
  "toc": {
   "base_numbering": 1,
   "nav_menu": {},
   "number_sections": false,
   "sideBar": true,
   "skip_h1_title": false,
   "title_cell": "Table of Contents",
   "title_sidebar": "Contents",
   "toc_cell": false,
   "toc_position": {},
   "toc_section_display": true,
   "toc_window_display": false
  },
  "varInspector": {
   "cols": {
    "lenName": 16,
    "lenType": 16,
    "lenVar": 40
   },
   "kernels_config": {
    "python": {
     "delete_cmd_postfix": "",
     "delete_cmd_prefix": "del ",
     "library": "var_list.py",
     "varRefreshCmd": "print(var_dic_list())"
    },
    "r": {
     "delete_cmd_postfix": ") ",
     "delete_cmd_prefix": "rm(",
     "library": "var_list.r",
     "varRefreshCmd": "cat(var_dic_list()) "
    }
   },
   "types_to_exclude": [
    "module",
    "function",
    "builtin_function_or_method",
    "instance",
    "_Feature"
   ],
   "window_display": false
  }
 },
 "nbformat": 4,
 "nbformat_minor": 2
}
